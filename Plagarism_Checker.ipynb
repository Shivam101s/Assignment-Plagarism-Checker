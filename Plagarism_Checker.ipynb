{
 "cells": [
  {
   "cell_type": "code",
   "execution_count": 1,
   "metadata": {},
   "outputs": [],
   "source": [
    "file1=open(\"doc1.txt\",\"r\")"
   ]
  },
  {
   "cell_type": "code",
   "execution_count": 2,
   "metadata": {},
   "outputs": [],
   "source": [
    "text1=file1.readlines()"
   ]
  },
  {
   "cell_type": "code",
   "execution_count": 3,
   "metadata": {},
   "outputs": [
    {
     "data": {
      "text/plain": [
       "['\\ufeffThe Mahābhārata (US: /məhɑːˈbɑːrətə/,[1] UK: /ˌmɑːhəˈbɑːrətə/;[2] Sanskrit: महाभारतम्, Mahābhāratam, pronounced\\xa0[mɐɦaːˈbʱaːrɐtɐm]) is one of the two major Sanskrit epics of ancient India, the other being the Rāmāyaṇa.[3] It narrates the struggle between two groups of cousins in the Kurukshetra War and the fates of the Kaurava and the Pāṇḍava princes and their successors. \\n',\n",
       " 'It also contains philosophical , such as a discussion of the four \"goals of life\" or puruṣārtha (12.161). Among the principal works and stories in the Mahābhārata are the Bhagavad Gita, the story of Damayanti, story of Savitri and Satyavan, story of Kacha and Devyani, the story of Ṛṣyasringa and an abbreviated version of the Rāmāyaṇa, often considered as works in their own right. \\n',\n",
       " ' \\n',\n",
       " '\\n',\n",
       " '\\n']"
      ]
     },
     "execution_count": 3,
     "metadata": {},
     "output_type": "execute_result"
    }
   ],
   "source": [
    "text1"
   ]
  },
  {
   "cell_type": "code",
   "execution_count": 6,
   "metadata": {},
   "outputs": [
    {
     "data": {
      "text/plain": [
       "['\\ufeffThe Mahābhārata (US: /məhɑːˈbɑːrətə/,[1] UK: /ˌmɑːhəˈbɑːrətə/;[2] Sanskrit: महाभारतम्, Mahābhāratam, pronounced\\xa0[mɐɦaːˈbʱaːrɐtɐm]) is one of the two major Sanskrit epics of ancient India, the other being the Rāmāyaṇa.[3] It narrates the struggle between two groups of cousins in the Kurukshetra War and the fates of the Kaurava and the Pāṇḍava princes and their successors. \\n',\n",
       " 'It also contains philosophical and devotional material, such as a discussion of the four \"goals of life\" or puruṣārtha (12.161). Among the principal works and stories in the Mahābhārata are the Bhagavad Gita, the story of Damayanti, story of Savitri and Satyavan, story of Kacha and Devyani, the story of Ṛṣyasringa and an abbreviated version of the Rāmāyaṇa, often considered as works in their own right. \\n',\n",
       " ' \\n',\n",
       " ' \\n']"
      ]
     },
     "execution_count": 6,
     "metadata": {},
     "output_type": "execute_result"
    }
   ],
   "source": [
    "file2=open(\"doc2.txt\",\"r\")\n",
    "text2=file2.readlines()\n",
    "text2"
   ]
  },
  {
   "cell_type": "code",
   "execution_count": 7,
   "metadata": {},
   "outputs": [],
   "source": [
    "import nltk\n",
    "str1=''.join(text1)\n",
    "str2=''.join(text2)"
   ]
  },
  {
   "cell_type": "code",
   "execution_count": 8,
   "metadata": {},
   "outputs": [
    {
     "data": {
      "text/plain": [
       "'\\ufeffThe Mahābhārata (US: /məhɑːˈbɑːrətə/,[1] UK: /ˌmɑːhəˈbɑːrətə/;[2] Sanskrit: महाभारतम्, Mahābhāratam, pronounced\\xa0[mɐɦaːˈbʱaːrɐtɐm]) is one of the two major Sanskrit epics of ancient India, the other being the Rāmāyaṇa.[3] It narrates the struggle between two groups of cousins in the Kurukshetra War and the fates of the Kaurava and the Pāṇḍava princes and their successors. \\nIt also contains philosophical , such as a discussion of the four \"goals of life\" or puruṣārtha (12.161). Among the principal works and stories in the Mahābhārata are the Bhagavad Gita, the story of Damayanti, story of Savitri and Satyavan, story of Kacha and Devyani, the story of Ṛṣyasringa and an abbreviated version of the Rāmāyaṇa, often considered as works in their own right. \\n \\n\\n\\n'"
      ]
     },
     "execution_count": 8,
     "metadata": {},
     "output_type": "execute_result"
    }
   ],
   "source": [
    "str1"
   ]
  },
  {
   "cell_type": "code",
   "execution_count": 9,
   "metadata": {},
   "outputs": [
    {
     "data": {
      "text/plain": [
       "'\\ufeffThe Mahābhārata (US: /məhɑːˈbɑːrətə/,[1] UK: /ˌmɑːhəˈbɑːrətə/;[2] Sanskrit: महाभारतम्, Mahābhāratam, pronounced\\xa0[mɐɦaːˈbʱaːrɐtɐm]) is one of the two major Sanskrit epics of ancient India, the other being the Rāmāyaṇa.[3] It narrates the struggle between two groups of cousins in the Kurukshetra War and the fates of the Kaurava and the Pāṇḍava princes and their successors. \\nIt also contains philosophical and devotional material, such as a discussion of the four \"goals of life\" or puruṣārtha (12.161). Among the principal works and stories in the Mahābhārata are the Bhagavad Gita, the story of Damayanti, story of Savitri and Satyavan, story of Kacha and Devyani, the story of Ṛṣyasringa and an abbreviated version of the Rāmāyaṇa, often considered as works in their own right. \\n \\n \\n'"
      ]
     },
     "execution_count": 9,
     "metadata": {},
     "output_type": "execute_result"
    }
   ],
   "source": [
    "str2"
   ]
  },
  {
   "cell_type": "code",
   "execution_count": 10,
   "metadata": {},
   "outputs": [],
   "source": [
    "sent_text1=str1.split('.')"
   ]
  },
  {
   "cell_type": "code",
   "execution_count": 11,
   "metadata": {},
   "outputs": [],
   "source": [
    "sent_text2=str2.split('.')"
   ]
  },
  {
   "cell_type": "code",
   "execution_count": 12,
   "metadata": {},
   "outputs": [
    {
     "data": {
      "text/plain": [
       "['\\ufeffThe Mahābhārata (US: /məhɑːˈbɑːrətə/,[1] UK: /ˌmɑːhəˈbɑːrətə/;[2] Sanskrit: महाभारतम्, Mahābhāratam, pronounced\\xa0[mɐɦaːˈbʱaːrɐtɐm]) is one of the two major Sanskrit epics of ancient India, the other being the Rāmāyaṇa',\n",
       " '[3] It narrates the struggle between two groups of cousins in the Kurukshetra War and the fates of the Kaurava and the Pāṇḍava princes and their successors',\n",
       " ' \\nIt also contains philosophical , such as a discussion of the four \"goals of life\" or puruṣārtha (12',\n",
       " '161)',\n",
       " ' Among the principal works and stories in the Mahābhārata are the Bhagavad Gita, the story of Damayanti, story of Savitri and Satyavan, story of Kacha and Devyani, the story of Ṛṣyasringa and an abbreviated version of the Rāmāyaṇa, often considered as works in their own right',\n",
       " ' \\n \\n\\n\\n']"
      ]
     },
     "execution_count": 12,
     "metadata": {},
     "output_type": "execute_result"
    }
   ],
   "source": [
    "sent_text1"
   ]
  },
  {
   "cell_type": "code",
   "execution_count": 13,
   "metadata": {},
   "outputs": [
    {
     "data": {
      "text/plain": [
       "['\\ufeffThe Mahābhārata (US: /məhɑːˈbɑːrətə/,[1] UK: /ˌmɑːhəˈbɑːrətə/;[2] Sanskrit: महाभारतम्, Mahābhāratam, pronounced\\xa0[mɐɦaːˈbʱaːrɐtɐm]) is one of the two major Sanskrit epics of ancient India, the other being the Rāmāyaṇa',\n",
       " '[3] It narrates the struggle between two groups of cousins in the Kurukshetra War and the fates of the Kaurava and the Pāṇḍava princes and their successors',\n",
       " ' \\nIt also contains philosophical and devotional material, such as a discussion of the four \"goals of life\" or puruṣārtha (12',\n",
       " '161)',\n",
       " ' Among the principal works and stories in the Mahābhārata are the Bhagavad Gita, the story of Damayanti, story of Savitri and Satyavan, story of Kacha and Devyani, the story of Ṛṣyasringa and an abbreviated version of the Rāmāyaṇa, often considered as works in their own right',\n",
       " ' \\n \\n \\n']"
      ]
     },
     "execution_count": 13,
     "metadata": {},
     "output_type": "execute_result"
    }
   ],
   "source": [
    "sent_text2"
   ]
  },
  {
   "cell_type": "code",
   "execution_count": 14,
   "metadata": {},
   "outputs": [],
   "source": [
    "final_list=[]\n",
    "for z in sent_text1:\n",
    "    for y in sent_text2:\n",
    "        if z == y:\n",
    "            final_list.append(z)\n"
   ]
  },
  {
   "cell_type": "code",
   "execution_count": 15,
   "metadata": {},
   "outputs": [
    {
     "data": {
      "text/plain": [
       "['\\ufeffThe Mahābhārata (US: /məhɑːˈbɑːrətə/,[1] UK: /ˌmɑːhəˈbɑːrətə/;[2] Sanskrit: महाभारतम्, Mahābhāratam, pronounced\\xa0[mɐɦaːˈbʱaːrɐtɐm]) is one of the two major Sanskrit epics of ancient India, the other being the Rāmāyaṇa',\n",
       " '[3] It narrates the struggle between two groups of cousins in the Kurukshetra War and the fates of the Kaurava and the Pāṇḍava princes and their successors',\n",
       " '161)',\n",
       " ' Among the principal works and stories in the Mahābhārata are the Bhagavad Gita, the story of Damayanti, story of Savitri and Satyavan, story of Kacha and Devyani, the story of Ṛṣyasringa and an abbreviated version of the Rāmāyaṇa, often considered as works in their own right']"
      ]
     },
     "execution_count": 15,
     "metadata": {},
     "output_type": "execute_result"
    }
   ],
   "source": [
    "final_list"
   ]
  },
  {
   "cell_type": "code",
   "execution_count": null,
   "metadata": {},
   "outputs": [],
   "source": []
  }
 ],
 "metadata": {
  "kernelspec": {
   "display_name": "Python 3",
   "language": "python",
   "name": "python3"
  },
  "language_info": {
   "codemirror_mode": {
    "name": "ipython",
    "version": 3
   },
   "file_extension": ".py",
   "mimetype": "text/x-python",
   "name": "python",
   "nbconvert_exporter": "python",
   "pygments_lexer": "ipython3",
   "version": "3.6.4"
  }
 },
 "nbformat": 4,
 "nbformat_minor": 2
}
